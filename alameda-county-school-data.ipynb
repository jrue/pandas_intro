{
 "cells": [
  {
   "cell_type": "code",
   "execution_count": null,
   "metadata": {},
   "outputs": [],
   "source": [
    "import numpy as np\n",
    "import pandas as pd\n",
    "import seaborn as sns\n",
    "import matplotlib.pyplot as plt"
   ]
  },
  {
   "cell_type": "code",
   "execution_count": null,
   "metadata": {},
   "outputs": [],
   "source": [
    "#calculate r squared\n",
    "def rsquared(x_values,y_values):\n",
    "    correlation_matrix = np.corrcoef(x_values, y_values)\n",
    "    correlation_xy = correlation_matrix[0,1]\n",
    "    r_squared = correlation_xy**2\n",
    "    return r_squared\n",
    "\n",
    "#show plot\n",
    "def plot(x_values,y_values,data):\n",
    "    max_x = data[x_values].max() - (data[x_values].max()*.02)\n",
    "    max_y = data[y_values].max() - (data[y_values].max()*.02)\n",
    "    p1 = sns.regplot(\n",
    "        x=x_values, \n",
    "        y=y_values, \n",
    "    data=data).text(max_x, max_y, \"R$^2$ = {:.2f}\".format(rsquared(data[x_values], data[y_values])), horizontalalignment='right')"
   ]
  },
  {
   "cell_type": "code",
   "execution_count": null,
   "metadata": {},
   "outputs": [],
   "source": [
    "schools = pd.read_csv(\"alameda-county-school-data.csv\")\n",
    "schools.head()"
   ]
  },
  {
   "cell_type": "code",
   "execution_count": null,
   "metadata": {},
   "outputs": [],
   "source": [
    "schools.describe()"
   ]
  },
  {
   "cell_type": "code",
   "execution_count": null,
   "metadata": {},
   "outputs": [],
   "source": [
    "schools[\"School Type\"].value_counts()"
   ]
  },
  {
   "cell_type": "code",
   "execution_count": null,
   "metadata": {},
   "outputs": [],
   "source": [
    "p1 = sns.distplot(schools[\"Census Day Enrollment\"], kde=False)"
   ]
  },
  {
   "cell_type": "code",
   "execution_count": null,
   "metadata": {},
   "outputs": [],
   "source": [
    "p1 = sns.distplot(schools[\"Free/Reduced Meals %\"], bins=50).set_xlim(0,100)"
   ]
  },
  {
   "cell_type": "code",
   "execution_count": null,
   "metadata": {},
   "outputs": [],
   "source": [
    "p1 = sns.distplot(schools[\"Suspension Rate\"], bins=10, kde=False)"
   ]
  },
  {
   "cell_type": "code",
   "execution_count": null,
   "metadata": {},
   "outputs": [],
   "source": [
    "p1 = sns.distplot(schools[\"Chronic Absenteeism %\"], bins=10, kde=False)"
   ]
  },
  {
   "cell_type": "code",
   "execution_count": null,
   "metadata": {},
   "outputs": [],
   "source": [
    "byrace = schools[[\"Asian #\",\"Black or African American #\",\"Filipino #\",\"Hispanic or Latino #\",\"Native Hawaiian or Pac Islander #\",\"Two or More Races #\",\"None Reported # (School)\",\"White #\"]].sum().to_frame()\n",
    "byrace = byrace.reset_index().rename(columns={0:'Count',\"index\":'Race'})\n",
    "byrace"
   ]
  },
  {
   "cell_type": "code",
   "execution_count": null,
   "metadata": {},
   "outputs": [],
   "source": [
    "p1 = sns.barplot(x='Race', y='Count', data=byrace.sort_values('Count', ascending=False))\n",
    "_ = plt.setp(p1.get_xticklabels(), rotation=80)"
   ]
  },
  {
   "cell_type": "code",
   "execution_count": null,
   "metadata": {},
   "outputs": [],
   "source": [
    "p1 = sns.distplot(schools[\"Black or African American #\"], kde=False)"
   ]
  },
  {
   "cell_type": "code",
   "execution_count": null,
   "metadata": {},
   "outputs": [],
   "source": [
    "schools[\"Test Scores Combined\"] = schools[\"CAASPP-Math Standard Exceeded or Met (Levels 3 and 4)\"] + schools[\"CAASPP-ELA Standard Exceeded or Met (Levels 3 and 4)\"]\n",
    "schools.head()"
   ]
  },
  {
   "cell_type": "code",
   "execution_count": null,
   "metadata": {},
   "outputs": [],
   "source": [
    "plot(\"Free/Reduced Meals % (School)\", \"Test Scores Combined\", schools)"
   ]
  },
  {
   "cell_type": "code",
   "execution_count": null,
   "metadata": {},
   "outputs": [],
   "source": [
    "plot(\"Black or African American # (School)\", \"Test Scores Combined\", schools)"
   ]
  },
  {
   "cell_type": "code",
   "execution_count": null,
   "metadata": {},
   "outputs": [],
   "source": [
    "plot(\"White # (School)\", \"Test Scores Combined\", schools)"
   ]
  },
  {
   "cell_type": "code",
   "execution_count": null,
   "metadata": {},
   "outputs": [],
   "source": [
    "plot(\"Hispanic or Latino # (School)\", \"Test Scores Combined\", schools)"
   ]
  },
  {
   "cell_type": "code",
   "execution_count": null,
   "metadata": {},
   "outputs": [],
   "source": [
    "plot(\"Suspension Rate (School)\", \"Test Scores Combined\", schools)"
   ]
  },
  {
   "cell_type": "code",
   "execution_count": null,
   "metadata": {},
   "outputs": [],
   "source": []
  }
 ],
 "metadata": {
  "kernelspec": {
   "display_name": "Python 3",
   "language": "python",
   "name": "python3"
  },
  "language_info": {
   "codemirror_mode": {
    "name": "ipython",
    "version": 3
   },
   "file_extension": ".py",
   "mimetype": "text/x-python",
   "name": "python",
   "nbconvert_exporter": "python",
   "pygments_lexer": "ipython3",
   "version": "3.8.2"
  }
 },
 "nbformat": 4,
 "nbformat_minor": 4
}
